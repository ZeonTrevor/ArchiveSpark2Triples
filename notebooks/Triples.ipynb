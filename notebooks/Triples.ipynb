{
 "cells": [
  {
   "cell_type": "markdown",
   "metadata": {},
   "source": [
    "This notebook requires FEL4ArchiveSpark: https://github.com/helgeho/FEL4ArchiveSpark"
   ]
  },
  {
   "cell_type": "code",
   "execution_count": 1,
   "metadata": {
    "collapsed": true
   },
   "outputs": [],
   "source": [
    "import de.l3s.archivespark._\n",
    "import de.l3s.archivespark.implicits._\n",
    "import de.l3s.archivespark.specific.warc._\n",
    "import de.l3s.archivespark.specific.warc.specs._\n",
    "import de.l3s.archivespark.specific.warc.implicits._\n",
    "import de.l3s.archivespark.enrich._\n",
    "import de.l3s.archivespark.enrich.functions._\n",
    "import de.l3s.archivespark.enrich.dataloads._\n",
    "import de.l3s.archivespark.enrichfunctions.fel._\n",
    "import de.l3s.archivespark2triples._\n",
    "import org.apache.hadoop.io.compress.GzipCodec"
   ]
  },
  {
   "cell_type": "code",
   "execution_count": 2,
   "metadata": {
    "collapsed": true
   },
   "outputs": [],
   "source": [
    "sc.setCheckpointDir(\"spark_checkpoint\")"
   ]
  },
  {
   "cell_type": "markdown",
   "metadata": {},
   "source": [
    "# Load the FEL model file"
   ]
  },
  {
   "cell_type": "code",
   "execution_count": 3,
   "metadata": {
    "collapsed": true
   },
   "outputs": [],
   "source": [
    "val modelFile = \"english-nov15.hash\"\n",
    "sc.addFile(\"hdfs:///user/holzmann/\" + modelFile)"
   ]
  },
  {
   "cell_type": "markdown",
   "metadata": {},
   "source": [
    "# Load the web archive collection (filter duplicates and very big records)"
   ]
  },
  {
   "cell_type": "code",
   "execution_count": 4,
   "metadata": {
    "collapsed": false
   },
   "outputs": [],
   "source": [
    "val collection = \"ArchiveIt-Collection-2950\"\n",
    "val cdxPath = s\"/data/archiveit/$collection/cdx/*.cdx.gz\"\n",
    "val warcPath = s\"/data/archiveit/$collection/warc\""
   ]
  },
  {
   "cell_type": "code",
   "execution_count": 5,
   "metadata": {
    "collapsed": true
   },
   "outputs": [],
   "source": [
    "val raw = ArchiveSpark.load(sc, WarcCdxHdfsSpec(cdxPath, warcPath))"
   ]
  },
  {
   "cell_type": "code",
   "execution_count": 6,
   "metadata": {
    "collapsed": false
   },
   "outputs": [],
   "source": [
    "val records = raw.distinctValue(_.get)((a, b) => a).filter(_.compressedSize < 1024 * 100).cache // 100 kb"
   ]
  },
  {
   "cell_type": "code",
   "execution_count": 7,
   "metadata": {
    "collapsed": false
   },
   "outputs": [
    {
     "data": {
      "text/plain": [
       "{\n",
       "  \"record\":{\n",
       "    \"redirectUrl\":\"-\",\n",
       "    \"timestamp\":\"20120515050246\",\n",
       "    \"digest\":\"QMKCJGWCZI2GOTC6W7TQ5YTMY2YRMWWV\",\n",
       "    \"originalUrl\":\"http://www.occupyslc.org/login/return_url/64-L2dyb3VwLzIz\",\n",
       "    \"surtUrl\":\"org,occupyslc)/login/return_url/64-l2dyb3vwlziz\",\n",
       "    \"mime\":\"text/html\",\n",
       "    \"compressedSize\":4499,\n",
       "    \"meta\":\"-\",\n",
       "    \"status\":200\n",
       "  }\n",
       "}"
      ]
     },
     "execution_count": 7,
     "metadata": {},
     "output_type": "execute_result"
    }
   ],
   "source": [
    "records.peekJson"
   ]
  },
  {
   "cell_type": "markdown",
   "metadata": {},
   "source": [
    "# Select successful responses of type HTML and detect duplicates"
   ]
  },
  {
   "cell_type": "code",
   "execution_count": 8,
   "metadata": {
    "collapsed": true
   },
   "outputs": [],
   "source": [
    "val responses = records.filter(r => r.status == 200 && r.mime == \"text/html\")"
   ]
  },
  {
   "cell_type": "code",
   "execution_count": 9,
   "metadata": {
    "collapsed": false
   },
   "outputs": [],
   "source": [
    "val earliestDigests = responses.map(r => ((r.surtUrl, r.digest), r)).reduceByKey{(r1, r2) =>\n",
    "    if (r1.time < r2.time) r1 else r2\n",
    "}"
   ]
  },
  {
   "cell_type": "code",
   "execution_count": 10,
   "metadata": {
    "collapsed": false
   },
   "outputs": [
    {
     "data": {
      "text/plain": [
       "7750123"
      ]
     },
     "execution_count": 10,
     "metadata": {},
     "output_type": "execute_result"
    }
   ],
   "source": [
    "earliestDigests.count"
   ]
  },
  {
   "cell_type": "code",
   "execution_count": 11,
   "metadata": {
    "collapsed": false
   },
   "outputs": [],
   "source": [
    "val duplicates = records.map(r => ((r.surtUrl, r.digest), r)).join(earliestDigests).map{case (_, records) => records}.filter{case (r1, r2) => r1.time != r2.time}"
   ]
  },
  {
   "cell_type": "code",
   "execution_count": 12,
   "metadata": {
    "collapsed": false
   },
   "outputs": [
    {
     "data": {
      "text/plain": [
       "1344450"
      ]
     },
     "execution_count": 12,
     "metadata": {},
     "output_type": "execute_result"
    }
   ],
   "source": [
    "duplicates.count"
   ]
  },
  {
   "cell_type": "markdown",
   "metadata": {},
   "source": [
    "# Generate *ArchivedDocument* triples representing distinct webpages"
   ]
  },
  {
   "cell_type": "code",
   "execution_count": 13,
   "metadata": {
    "collapsed": false
   },
   "outputs": [],
   "source": [
    "val versions = earliestDigests.map{case (_, r) => r}.union(duplicates.map{case (r1, r2) => r1})"
   ]
  },
  {
   "cell_type": "code",
   "execution_count": 14,
   "metadata": {
    "collapsed": false
   },
   "outputs": [
    {
     "data": {
      "text/plain": [
       "9094573"
      ]
     },
     "execution_count": 14,
     "metadata": {},
     "output_type": "execute_result"
    }
   ],
   "source": [
    "versions.count"
   ]
  },
  {
   "cell_type": "code",
   "execution_count": 15,
   "metadata": {
    "collapsed": false
   },
   "outputs": [],
   "source": [
    "val documentTriples = ArchiveSpark2Triples.generateDocs(versions)"
   ]
  },
  {
   "cell_type": "code",
   "execution_count": 16,
   "metadata": {
    "collapsed": false
   },
   "outputs": [
    {
     "data": {
      "text/plain": [
       "3036326"
      ]
     },
     "execution_count": 16,
     "metadata": {},
     "output_type": "execute_result"
    }
   ],
   "source": [
    "documentTriples.count"
   ]
  },
  {
   "cell_type": "code",
   "execution_count": 17,
   "metadata": {
    "collapsed": false,
    "scrolled": true
   },
   "outputs": [
    {
     "name": "stdout",
     "output_type": "stream",
     "text": [
      "\n",
      "<http://occupyalabama.org/forum/showthread.php?t=161&goto=nextnewest> rdf:type owa:ArchivedDocument ;\n",
      "    owa:numOfCaptures    \"6\"^^xsd:integer ;\n",
      "    owa:firstCapture     \"2011-12-03T05:56:19\"^^xsd:dateTime ;\n",
      "    owa:lastCapture      \"2012-01-03T03:36:09\"^^xsd:dateTime ;\n",
      "    dc:hasVersion        <https://web.archive.org/web/20111203055619/http://occupyalabama.org/forum/showthread.php?t=161&goto=nextnewest>,\n",
      "                         <https://web.archive.org/web/20111210061229/http://occupyalabama.org/forum/showthread.php?t=161&goto=nextnewest>,\n",
      "                         <https://web.archive.org/web/20111217055735/http://occupyalabama.org/forum/showthread.php?t=161&goto=nextnewest>,\n",
      "                         <https://web.archive.org/web/20111220030152/http://occupyalabama.org/forum/showthread.php?t=161&goto=nextnewest>,\n",
      "                         <https://web.archive.org/web/20111227031921/http://occupyalabama.org/forum/showthread.php?t=161&goto=nextnewest>,\n",
      "                         <https://web.archive.org/web/20120103033609/http://occupyalabama.org/forum/showthread.php?t=161&goto=nextnewest> .\n",
      "\n"
     ]
    }
   ],
   "source": [
    "println(documentTriples.peek)"
   ]
  },
  {
   "cell_type": "markdown",
   "metadata": {},
   "source": [
    "# Create \"*sameAs* triples\" from duplicates"
   ]
  },
  {
   "cell_type": "code",
   "execution_count": 18,
   "metadata": {
    "collapsed": false
   },
   "outputs": [],
   "source": [
    "val sameAsTriples = ArchiveSpark2Triples.generateSameAsVersions(duplicates)"
   ]
  },
  {
   "cell_type": "code",
   "execution_count": 19,
   "metadata": {
    "collapsed": false
   },
   "outputs": [
    {
     "name": "stdout",
     "output_type": "stream",
     "text": [
      "\n",
      "<https://web.archive.org/web/20120105062548/http://www.livestream.com/forum/showpost.php?p=18958&postcount=9> rdf:type owa:VersionedDocument ;\n",
      "    dc:date              \"2012-01-05T06:25:48\"^^xsd:dateTime ;\n",
      "    owl:sameAs           <https://web.archive.org/web/20111229064632/http://www.livestream.com/forum/showpost.php?p=18958&postcount=9> .\n",
      "\n"
     ]
    }
   ],
   "source": [
    "println(sameAsTriples.peek)"
   ]
  },
  {
   "cell_type": "markdown",
   "metadata": {},
   "source": [
    "# Generate *VersionedDocument* triples with title and entities"
   ]
  },
  {
   "cell_type": "code",
   "execution_count": 20,
   "metadata": {
    "collapsed": true
   },
   "outputs": [],
   "source": [
    "val repartitioned = earliestDigests.map{case (_, r) => r}.repartition(5000)"
   ]
  },
  {
   "cell_type": "code",
   "execution_count": 21,
   "metadata": {
    "collapsed": false
   },
   "outputs": [],
   "source": [
    "val title = HtmlText.of(Html.first(\"title\"))\n",
    "val responsesWithTitles = repartitioned.enrich(title)"
   ]
  },
  {
   "cell_type": "code",
   "execution_count": 22,
   "metadata": {
    "collapsed": false
   },
   "outputs": [],
   "source": [
    "val fel = FELwithTimeOut(scoreThreshold = -5, modelFile = modelFile).on(HtmlText)\n",
    "val responsesWithEntities = responsesWithTitles.enrich(fel)"
   ]
  },
  {
   "cell_type": "code",
   "execution_count": 23,
   "metadata": {
    "collapsed": false,
    "scrolled": false
   },
   "outputs": [
    {
     "data": {
      "text/plain": [
       "{\n",
       "  \"record\":{\n",
       "    \"redirectUrl\":\"-\",\n",
       "    \"timestamp\":\"20120510075035\",\n",
       "    \"digest\":\"BZBZGSQPJ5VJJJBNXN5TYD42F2JMHWLX\",\n",
       "    \"originalUrl\":\"http://www.occupyottawa.org/comment/708\",\n",
       "    \"surtUrl\":\"org,occupyottawa)/comment/708\",\n",
       "    \"mime\":\"text/html\",\n",
       "    \"compressedSize\":10658,\n",
       "    \"meta\":\"-\",\n",
       "    \"status\":200\n",
       "  },\n",
       "  \"payload\":{\n",
       "    \"string\":{\n",
       "      \"html\":{\n",
       "        \"title\":{\n",
       "          \"text\":\"Media Minutes from November 29th | OCCUPY OTTAWA\"\n",
       "        },\n",
       "        \"body\":{\n",
       "          \"text\":{\n",
       "            \"entities\":[\n",
       "              {\n",
       "                \"span\":\"calendar\",\n",
       "                \"endOffset\":94,\n",
       "                \"score\":-1.7552143094338724,\n",
       "                \"annotation\":\"Calendar\",\n",
       "                \"startOffset\":86\n",
       "              },\n",
       "              {\n",
       "                \"span\":\"so..."
      ]
     },
     "execution_count": 23,
     "metadata": {},
     "output_type": "execute_result"
    }
   ],
   "source": [
    "responsesWithEntities.peekJson"
   ]
  },
  {
   "cell_type": "code",
   "execution_count": 24,
   "metadata": {
    "collapsed": false
   },
   "outputs": [],
   "source": [
    "val versionTriples = ArchiveSpark2Triples.generateVersionsMapped(responsesWithEntities) {(record, uid, doc) =>\n",
    "    val recordTitle = record.value(title).getOrElse(\"\")\n",
    "    val recordEntities = record.value(fel).getOrElse(Seq.empty)\n",
    "    doc.appendTriples(\"dc:title\", s\"\"\"\\\"$recordTitle\\\"\"\"\").appendChildren(\"schema:mentions\", {\n",
    "        recordEntities.zipWithIndex.map{case (entity, i) => TripleDoc(\n",
    "            s\"_:e$uid-$i\",\n",
    "            \"oae:Entity\",\n",
    "            Seq(\n",
    "                \"oae:confidence\" -> Seq(s\"\"\"\"${entity.score}\"^^xsd:double\"\"\"),\n",
    "                \"oae:detectedAs\" -> Seq(s\"\"\"\\\"${entity.span}\\\"\"\"\"),\n",
    "                \"oae:position\" -> Seq(s\"\"\"\"${entity.startOffset}\"^^xsd:integer\"\"\"),\n",
    "                \"oae:hasMatchedURI\" -> Seq(s\"<http://dbpedia.org/resource/${entity.annotation}>\")\n",
    "            )\n",
    "        )}\n",
    "    })\n",
    "}"
   ]
  },
  {
   "cell_type": "code",
   "execution_count": 25,
   "metadata": {
    "collapsed": false,
    "scrolled": true
   },
   "outputs": [
    {
     "name": "stdout",
     "output_type": "stream",
     "text": [
      "\n",
      "<https://web.archive.org/web/20111229171039/http://www.livestream.com/forum/search.php?searchthreadid=6480> rdf:type owa:VersionedDocument ;\n",
      "    dc:date              \"2011-12-29T17:10:39\"^^xsd:dateTime ;\n",
      "    dc:format            \"text/html\" ;\n",
      "    dc:title             \"Livestream Forum - Search Thread\" ;\n",
      "    schema:mentions      _:e0-0,\n",
      "                         _:e0-1,\n",
      "                         _:e0-2,\n",
      "                         _:e0-3,\n",
      "                         _:e0-4,\n",
      "                         _:e0-5,\n",
      "                         _:e0-6,\n",
      "                         _:e0-7,\n",
      "                         _:e0-8,\n",
      "                         _:e0-9,\n",
      "                         _:e0-10,\n",
      "                         _:e0-11,\n",
      "                         _:e0-12,\n",
      "                         _:e0-13,\n",
      "                         _:e0-14,\n",
      "                         _:e0-15,\n",
      "                         _:e0-16,\n",
      "                         _:e0-17,\n",
      "                         _:e0-18,\n",
      "                         _:e0-19,\n",
      "                         _:e0-20,\n",
      "                         _:e0-21,\n",
      "                         _:e0-22,\n",
      "                         _:e0-23,\n",
      "                         _:e0-24,\n",
      "                         _:e0-25,\n",
      "                         _:e0-26,\n",
      "                         _:e0-27,\n",
      "                         _:e0-28,\n",
      "                         _:e0-29,\n",
      "                         _:e0-30,\n",
      "                         _:e0-31,\n",
      "                         _:e0-32,\n",
      "                         _:e0-33,\n",
      "                         _:e0-34,\n",
      "                         _:e0-35,\n",
      "                         _:e0-36,\n",
      "                         _:e0-37,\n",
      "                         _:e0-38,\n",
      "                         _:e0-39,\n",
      "                         _:e0-40,\n",
      "                         _:e0-41,\n",
      "                         _:e0-42,\n",
      "                         _:e0-43,\n",
      "                         _:e0-44,\n",
      "                         _:e0-45,\n",
      "                         _:e0-46,\n",
      "                         _:e0-47,\n",
      "                         _:e0-48,\n",
      "                         _:e0-49,\n",
      "                         _:e0-50,\n",
      "                         _:e0-51,\n",
      "                         _:e0-52,\n",
      "                         _:e0-53,\n",
      "                         _:e0-54,\n",
      "                         _:e0-55,\n",
      "                         _:e0-56,\n",
      "                         _:e0-57,\n",
      "                         _:e0-58,\n",
      "                         _:e0-59,\n",
      "                         _:e0-60,\n",
      "                         _:e0-61,\n",
      "                         _:e0-62,\n",
      "                         _:e0-63,\n",
      "                         _:e0-64,\n",
      "                         _:e0-65,\n",
      "                         _:e0-66,\n",
      "                         _:e0-67,\n",
      "                         _:e0-68,\n",
      "                         _:e0-69,\n",
      "                         _:e0-70,\n",
      "                         _:e0-71,\n",
      "                         _:e0-72,\n",
      "                         _:e0-73,\n",
      "                         _:e0-74,\n",
      "                         _:e0-75,\n",
      "                         _:e0-76,\n",
      "                         _:e0-77,\n",
      "                         _:e0-78,\n",
      "                         _:e0-79,\n",
      "                         _:e0-80,\n",
      "                         _:e0-81,\n",
      "                         _:e0-82,\n",
      "                         _:e0-83,\n",
      "                         _:e0-84,\n",
      "                         _:e0-85,\n",
      "                         _:e0-86,\n",
      "                         _:e0-87,\n",
      "                         _:e0-88,\n",
      "                         _:e0-89,\n",
      "                         _:e0-90,\n",
      "                         _:e0-91,\n",
      "                         _:e0-92,\n",
      "                         _:e0-93,\n",
      "                         _:e0-94,\n",
      "                         _:e0-95,\n",
      "                         _:e0-96,\n",
      "                         _:e0-97,\n",
      "                         _:e0-98,\n",
      "                         _:e0-99,\n",
      "                         _:e0-100,\n",
      "                         _:e0-101,\n",
      "                         _:e0-102,\n",
      "                         _:e0-103,\n",
      "                         _:e0-104,\n",
      "                         _:e0-105,\n",
      "                         _:e0-106,\n",
      "                         _:e0-107,\n",
      "                         _:e0-108,\n",
      "                         _:e0-109,\n",
      "                         _:e0-110,\n",
      "                         _:e0-111,\n",
      "                         _:e0-112,\n",
      "                         _:e0-113,\n",
      "                         _:e0-114 .\n",
      "\n",
      "    _:e0-0 rdf:type oae:Entity ;\n",
      "        oae:confidence       \"-3.229642527107765\"^^xsd:double ;\n",
      "        oae:detectedAs       \"url\" ;\n",
      "        oae:position         \"8\"^^xsd:integer ;\n",
      "        oae:hasMatchedURI    <http://dbpedia.org/resource/Uniform_Resource_Locator> .\n",
      "\n",
      "    _:e0-1 rdf:type oae:Entity ;\n",
      "        oae:confidence       \"-3.7823583058704715\"^^xsd:double ;\n",
      "        oae:detectedAs       \"forum\" ;\n",
      "        oae:position         \"26\"^^xsd:integer ;\n",
      "        oae:hasMatchedURI    <http://dbpedia.org/resource/Internet_forum> .\n",
      "\n",
      "    _:e0-2 rdf:type oae:Entity ;\n",
      "        oae:confidence       \"-3.902000823110113\"^^xsd:double ;\n",
      "        oae:detectedAs       \"stylesheets\" ;\n",
      "        oae:position         \"14\"^^xsd:integer ;\n",
      "        oae:hasMatchedURI    <http://dbpedia.org/resource/Cascading_Style_Sheets> .\n",
      "\n",
      "    _:e0-3 rdf:type oae:Entity ;\n",
      "        oae:confidence       \"-4.493238682826227\"^^xsd:double ;\n",
      "        oae:detectedAs       \"import\" ;\n",
      "        oae:position         \"1\"^^xsd:integer ;\n",
      "        oae:hasMatchedURI    <http://dbpedia.org/resource/Import> .\n",
      "\n",
      "    _:e0-4 rdf:type oae:Entity ;\n",
      "        oae:confidence       \"-2.055881989684264\"^^xsd:double ;\n",
      "        oae:detectedAs       \"css\" ;\n",
      "        oae:position         \"32\"^^xsd:integer ;\n",
      "        oae:hasMatchedURI    <http://dbpedia.org/resource/Cascading_Style_Sheets> .\n",
      "\n",
      "    _:e0-5 rdf:type oae:Entity ;\n",
      "        oae:confidence       \"-3.1535132142681253\"^^xsd:double ;\n",
      "        oae:detectedAs       \"v 2\" ;\n",
      "        oae:position         \"36\"^^xsd:integer ;\n",
      "        oae:hasMatchedURI    <http://dbpedia.org/resource/V-2_rocket> .\n",
      "\n",
      "    _:e0-6 rdf:type oae:Entity ;\n",
      "        oae:confidence       \"-3.975021178342929\"^^xsd:double ;\n",
      "        oae:detectedAs       \"3\" ;\n",
      "        oae:position         \"40\"^^xsd:integer ;\n",
      "        oae:hasMatchedURI    <http://dbpedia.org/resource/3> .\n",
      "\n",
      "    _:e0-7 rdf:type oae:Entity ;\n",
      "        oae:confidence       \"-4.532117635055076\"^^xsd:double ;\n",
      "        oae:detectedAs       \"document\" ;\n",
      "        oae:position         \"47\"^^xsd:integer ;\n",
      "        oae:hasMatchedURI    <http://dbpedia.org/resource/Document> .\n",
      "\n",
      "    _:e0-8 rdf:type oae:Entity ;\n",
      "        oae:confidence       \"-4.9722005282200765\"^^xsd:double ;\n",
      "        oae:detectedAs       \"0\" ;\n",
      "        oae:position         \"42\"^^xsd:integer ;\n",
      "        oae:hasMatchedURI    <http://dbpedia.org/resource/0_%28number%29> .\n",
      "\n",
      "    _:e0-9 rdf:type oae:Entity ;\n",
      "        oae:confidence       \"-4.532117635055076\"^^xsd:double ;\n",
      "        oae:detectedAs       \"document\" ;\n",
      "        oae:position         \"76\"^^xsd:integer ;\n",
      "        oae:hasMatchedURI    <http://dbpedia.org/resource/Document> .\n",
      "\n",
      "    _:e0-10 rdf:type oae:Entity ;\n",
      "        oae:confidence       \"-4.705174260817093\"^^xsd:double ;\n",
      "        oae:detectedAs       \"id\" ;\n",
      "        oae:position         \"61\"^^xsd:integer ;\n",
      "        oae:hasMatchedURI    <http://dbpedia.org/resource/Id%2C_ego_and_super-ego> .\n",
      "\n",
      "    _:e0-11 rdf:type oae:Entity ;\n",
      "        oae:confidence       \"-0.9361863661555159\"^^xsd:double ;\n",
      "        oae:detectedAs       \"internet explorer\" ;\n",
      "        oae:position         \"111\"^^xsd:integer ;\n",
      "        oae:hasMatchedURI    <http://dbpedia.org/resource/Internet_Explorer> .\n",
      "\n",
      "    _:e0-12 rdf:type oae:Entity ;\n",
      "        oae:confidence       \"-3.7114320805077323\"^^xsd:double ;\n",
      "        oae:detectedAs       \"browser\" ;\n",
      "        oae:position         \"146\"^^xsd:integer ;\n",
      "        oae:hasMatchedURI    <http://dbpedia.org/resource/Web_browser> .\n",
      "\n",
      "    _:e0-13 rdf:type oae:Entity ;\n",
      "        oae:confidence       \"-3.7823583058704715\"^^xsd:double ;\n",
      "        oae:detectedAs       \"forum\" ;\n",
      "        oae:position         \"103\"^^xsd:integer ;\n",
      "        oae:hasMatchedURI    <http://dbpedia.org/resource/Internet_forum> .\n",
      "\n",
      "    _:e0-14 rdf:type oae:Entity ;\n",
      "        oae:confidence       \"-3.102384859781535\"^^xsd:double ;\n",
      "        oae:detectedAs       \"get firefox\" ;\n",
      "        oae:position         \"226\"^^xsd:integer ;\n",
      "        oae:hasMatchedURI    <http://dbpedia.org/resource/Firefox> .\n",
      "\n",
      "    _:e0-15 rdf:type oae:Entity ;\n",
      "        oae:confidence       \"-0.6015646570161929\"^^xsd:double ;\n",
      "        oae:detectedAs       \"livestream\" ;\n",
      "        oae:position         \"260\"^^xsd:integer ;\n",
      "        oae:hasMatchedURI    <http://dbpedia.org/resource/Livestream> .\n",
      "\n",
      "    _:e0-16 rdf:type oae:Entity ;\n",
      "        oae:confidence       \"-2.0561217832980807\"^^xsd:double ;\n",
      "        oae:detectedAs       \"streaming video\" ;\n",
      "        oae:position         \"297\"^^xsd:integer ;\n",
      "        oae:hasMatchedURI    <http://dbpedia.org/resource/Streaming_media> .\n",
      "\n",
      "    _:e0-17 rdf:type oae:Entity ;\n",
      "        oae:confidence       \"-4.1987427030869044\"^^xsd:double ;\n",
      "        oae:detectedAs       \"tv live\" ;\n",
      "        oae:position         \"287\"^^xsd:integer ;\n",
      "        oae:hasMatchedURI    <http://dbpedia.org/resource/Internet_television> .\n",
      "\n",
      "    _:e0-18 rdf:type oae:Entity ;\n",
      "        oae:confidence       \"-4.199603557306515\"^^xsd:double ;\n",
      "        oae:detectedAs       \"internet\" ;\n",
      "        oae:position         \"278\"^^xsd:integer ;\n",
      "        oae:hasMatchedURI    <http://dbpedia.org/resource/Internet> .\n",
      "\n",
      "    _:e0-19 rdf:type oae:Entity ;\n",
      "        oae:confidence       \"-4.996383775104226\"^^xsd:double ;\n",
      "        oae:detectedAs       \"hide\" ;\n",
      "        oae:position         \"255\"^^xsd:integer ;\n",
      "        oae:hasMatchedURI    <http://dbpedia.org/resource/Hide_%28musician%29> .\n",
      "\n",
      "    _:e0-20 rdf:type oae:Entity ;\n",
      "        oae:confidence       \"-0.6015646570161929\"^^xsd:double ;\n",
      "        oae:detectedAs       \"livestream\" ;\n",
      "        oae:position         \"322\"^^xsd:integer ;\n",
      "        oae:hasMatchedURI    <http://dbpedia.org/resource/Livestream> .\n",
      "\n",
      "    _:e0-21 rdf:type oae:Entity ;\n",
      "        oae:confidence       \"-2.2106428529811986\"^^xsd:double ;\n",
      "        oae:detectedAs       \"channels live\" ;\n",
      "        oae:position         \"355\"^^xsd:integer ;\n",
      "        oae:hasMatchedURI    <http://dbpedia.org/resource/Channel_Live> .\n",
      "\n",
      "    _:e0-22 rdf:type oae:Entity ;\n",
      "        oae:confidence       \"-3.6192284718330723\"^^xsd:double ;\n",
      "        oae:detectedAs       \"entertainment\" ;\n",
      "        oae:position         \"409\"^^xsd:integer ;\n",
      "        oae:hasMatchedURI    <http://dbpedia.org/resource/Entertainment> .\n",
      "\n",
      "    _:e0-23 rdf:type oae:Entity ;\n",
      "        oae:confidence       \"-4.050972622023569\"^^xsd:double ;\n",
      "        oae:detectedAs       \"sports channels\" ;\n",
      "        oae:position         \"447\"^^xsd:integer ;\n",
      "        oae:hasMatchedURI    <http://dbpedia.org/resource/SportsChannel> .\n",
      "\n",
      "    _:e0-24 rdf:type oae:Entity ;\n",
      "        oae:confidence       \"-4.051807999502022\"^^xsd:double ;\n",
      "        oae:detectedAs       \"games\" ;\n",
      "        oae:position         \"463\"^^xsd:integer ;\n",
      "        oae:hasMatchedURI    <http://dbpedia.org/resource/Gams> .\n",
      "\n",
      "    _:e0-25 rdf:type oae:Entity ;\n",
      "        oae:confidence       \"-4.877905229429996\"^^xsd:double ;\n",
      "        oae:detectedAs       \"popular\" ;\n",
      "        oae:position         \"378\"^^xsd:integer ;\n",
      "        oae:hasMatchedURI    <http://dbpedia.org/resource/Popular_%28TV_series%29> .\n",
      "\n",
      "    _:e0-26 rdf:type oae:Entity ;\n",
      "        oae:confidence       \"-2.963172434314665\"^^xsd:double ;\n",
      "        oae:detectedAs       \"https secure\" ;\n",
      "        oae:position         \"547\"^^xsd:integer ;\n",
      "        oae:hasMatchedURI    <http://dbpedia.org/resource/HTTPS> .\n",
      "\n",
      "    _:e0-27 rdf:type oae:Entity ;\n",
      "        oae:confidence       \"-0.6015646570161929\"^^xsd:double ;\n",
      "        oae:detectedAs       \"livestream\" ;\n",
      "        oae:position         \"562\"^^xsd:integer ;\n",
      "        oae:hasMatchedURI    <http://dbpedia.org/resource/Livestream> .\n",
      "\n",
      "    _:e0-28 rdf:type oae:Entity ;\n",
      "        oae:confidence       \"-0.35284731226502275\"^^xsd:double ;\n",
      "        oae:detectedAs       \"facebook\" ;\n",
      "        oae:position         \"1311\"^^xsd:integer ;\n",
      "        oae:hasMatchedURI    <http://dbpedia.org/resource/Facebook> .\n",
      "\n",
      "    _:e0-29 rdf:type oae:Entity ;\n",
      "        oae:confidence       \"-0.6015646570161929\"^^xsd:double ;\n",
      "        oae:detectedAs       \"livestream\" ;\n",
      "        oae:position         \"1409\"^^xsd:integer ;\n",
      "        oae:hasMatchedURI    <http://dbpedia.org/resource/Livestream> .\n",
      "\n",
      "    _:e0-30 rdf:type oae:Entity ;\n",
      "        oae:confidence       \"-0.6015646570161929\"^^xsd:double ;\n",
      "        oae:detectedAs       \"livestream\" ;\n",
      "        oae:position         \"757\"^^xsd:integer ;\n",
      "        oae:hasMatchedURI    <http://dbpedia.org/resource/Livestream> .\n",
      "\n",
      "    _:e0-31 rdf:type oae:Entity ;\n",
      "        oae:confidence       \"-0.6015646570161929\"^^xsd:double ;\n",
      "        oae:detectedAs       \"livestream\" ;\n",
      "        oae:position         \"705\"^^xsd:integer ;\n",
      "        oae:hasMatchedURI    <http://dbpedia.org/resource/Livestream> .\n",
      "\n",
      "    _:e0-32 rdf:type oae:Entity ;\n",
      "        oae:confidence       \"-0.6015646570161929\"^^xsd:double ;\n",
      "        oae:detectedAs       \"livestream\" ;\n",
      "        oae:position         \"591\"^^xsd:integer ;\n",
      "        oae:hasMatchedURI    <http://dbpedia.org/resource/Livestream> .\n",
      "\n",
      "    _:e0-33 rdf:type oae:Entity ;\n",
      "        oae:confidence       \"-0.923129803631357\"^^xsd:double ;\n",
      "        oae:detectedAs       \"tag cloud\" ;\n",
      "        oae:position         \"1166\"^^xsd:integer ;\n",
      "        oae:hasMatchedURI    <http://dbpedia.org/resource/Tag_cloud> .\n",
      "\n",
      "    _:e0-34 rdf:type oae:Entity ;\n",
      "        oae:confidence       \"-0.970866057491111\"^^xsd:double ;\n",
      "        oae:detectedAs       \"fullscreen\" ;\n",
      "        oae:position         \"1345\"^^xsd:integer ;\n",
      "        oae:hasMatchedURI    <http://dbpedia.org/resource/Fullscreen_%28company%29> .\n",
      "\n",
      "    _:e0-35 rdf:type oae:Entity ;\n",
      "        oae:confidence       \"-1.3526018725894016\"^^xsd:double ;\n",
      "        oae:detectedAs       \"storyboard\" ;\n",
      "        oae:position         \"1588\"^^xsd:integer ;\n",
      "        oae:hasMatchedURI    <http://dbpedia.org/resource/Storyboard> .\n",
      "\n",
      "    _:e0-36 rdf:type oae:Entity ;\n",
      "        oae:confidence       \"-1.4345846354781515\"^^xsd:double ;\n",
      "        oae:detectedAs       \"broadcast now\" ;\n",
      "        oae:position         \"577\"^^xsd:integer ;\n",
      "        oae:hasMatchedURI    <http://dbpedia.org/resource/Broadcast_%28magazine%29> .\n",
      "\n",
      "    _:e0-37 rdf:type oae:Entity ;\n",
      "        oae:confidence       \"-2.1340126256003225\"^^xsd:double ;\n",
      "        oae:detectedAs       \"vod\" ;\n",
      "        oae:position         \"1680\"^^xsd:integer ;\n",
      "        oae:hasMatchedURI    <http://dbpedia.org/resource/Video_on_demand> .\n",
      "\n",
      "    _:e0-38 rdf:type oae:Entity ;\n",
      "        oae:confidence       \"-2.1346889451959523\"^^xsd:double ;\n",
      "        oae:detectedAs       \"podcaster\" ;\n",
      "        oae:position         \"1483\"^^xsd:integer ;\n",
      "        oae:hasMatchedURI    <http://dbpedia.org/resource/Podcast> .\n",
      "\n",
      "    _:e0-39 rdf:type oae:Entity ;\n",
      "        oae:confidence       \"-2.40474845201831\"^^xsd:double ;\n",
      "        oae:detectedAs       \"windows 7\" ;\n",
      "        oae:position         \"1684\"^^xsd:integer ;\n",
      "        oae:hasMatchedURI    <http://dbpedia.org/resource/Windows_7> .\n",
      "\n",
      "    _:e0-40 rdf:type oae:Entity ;\n",
      "        oae:confidence       \"-2.405833729360891\"^^xsd:double ;\n",
      "        oae:detectedAs       \"upload\" ;\n",
      "        oae:position         \"1647\"^^xsd:integer ;\n",
      "        oae:hasMatchedURI    <http://dbpedia.org/resource/Upload> .\n",
      "\n",
      "    _:e0-41 rdf:type oae:Entity ;\n",
      "        oae:confidence       \"-2.4126010199995167\"^^xsd:double ;\n",
      "        oae:detectedAs       \"user guide\" ;\n",
      "        oae:position         \"669\"^^xsd:integer ;\n",
      "        oae:hasMatchedURI    <http://dbpedia.org/resource/User_guide> .\n",
      "\n",
      "    _:e0-42 rdf:type oae:Entity ;\n",
      "        oae:confidence       \"-2.5267816654014794\"^^xsd:double ;\n",
      "        oae:detectedAs       \"faq\" ;\n",
      "        oae:position         \"788\"^^xsd:integer ;\n",
      "        oae:hasMatchedURI    <http://dbpedia.org/resource/FAQ> .\n",
      "\n",
      "    _:e0-43 rdf:type oae:Entity ;\n",
      "        oae:confidence       \"-2.5267816654014794\"^^xsd:double ;\n",
      "        oae:detectedAs       \"faq\" ;\n",
      "        oae:position         \"665\"^^xsd:integer ;\n",
      "        oae:hasMatchedURI    <http://dbpedia.org/resource/FAQ> .\n",
      "\n",
      "    _:e0-44 rdf:type oae:Entity ;\n",
      "        oae:confidence       \"-2.773574672012011\"^^xsd:double ;\n",
      "        oae:detectedAs       \"no sound\" ;\n",
      "        oae:position         \"1459\"^^xsd:integer ;\n",
      "        oae:hasMatchedURI    <http://dbpedia.org/resource/No_Noise> .\n",
      "\n",
      "    _:e0-45 rdf:type oae:Entity ;\n",
      "        oae:confidence       \"-2.7929732130419884\"^^xsd:double ;\n",
      "        oae:detectedAs       \"1 month\" ;\n",
      "        oae:position         \"873\"^^xsd:integer ;\n",
      "        oae:hasMatchedURI    <http://dbpedia.org/resource/One_Month> .\n",
      "\n",
      "    _:e0-46 rdf:type oae:Entity ;\n",
      "        oae:confidence       \"-2.929149726074802\"^^xsd:double ;\n",
      "        oae:detectedAs       \"delete\" ;\n",
      "        oae:position         \"1276\"^^xsd:integer ;\n",
      "        oae:hasMatchedURI    <http://dbpedia.org/resource/Delete_%28SQL%29> .\n",
      "\n",
      "    _:e0-47 rdf:type oae:Entity ;\n",
      "        oae:confidence       \"-3.12190197325416\"^^xsd:double ;\n",
      "        oae:detectedAs       \"mac\" ;\n",
      "        oae:position         \"1429\"^^xsd:integer ;\n",
      "        oae:hasMatchedURI    <http://dbpedia.org/resource/Macintosh> .\n",
      "\n",
      "    _:e0-48 rdf:type oae:Entity ;\n",
      "        oae:confidence       \"-3.211899723558927\"^^xsd:double ;\n",
      "        oae:detectedAs       \"offline\" ;\n",
      "        oae:position         \"1468\"^^xsd:integer ;\n",
      "        oae:hasMatchedURI    <http://dbpedia.org/resource/Online_and_offline> .\n",
      "\n",
      "    _:e0-49 rdf:type oae:Entity ;\n",
      "        oae:confidence       \"-3.266277030779511\"^^xsd:double ;\n",
      "        oae:detectedAs       \"flash\" ;\n",
      "        oae:position         \"1327\"^^xsd:integer ;\n",
      "        oae:hasMatchedURI    <http://dbpedia.org/resource/Flash_%28comics%29> .\n",
      "\n",
      "    _:e0-50 rdf:type oae:Entity ;\n",
      "        oae:confidence       \"-3.3757981660910814\"^^xsd:double ;\n",
      "        oae:detectedAs       \"streaming\" ;\n",
      "        oae:position         \"1606\"^^xsd:integer ;\n",
      "        oae:hasMatchedURI    <http://dbpedia.org/resource/Streaming_media> .\n",
      "\n",
      "    _:e0-51 rdf:type oae:Entity ;\n",
      "        oae:confidence       \"-3.4337799127381423\"^^xsd:double ;\n",
      "        oae:detectedAs       \"desktop\" ;\n",
      "        oae:position         \"1291\"^^xsd:integer ;\n",
      "        oae:hasMatchedURI    <http://dbpedia.org/resource/Desktop_computer> .\n",
      "\n",
      "    _:e0-52 rdf:type oae:Entity ;\n",
      "        oae:confidence       \"-3.4348419148945863\"^^xsd:double ;\n",
      "        oae:detectedAs       \"android api\" ;\n",
      "        oae:position         \"1180\"^^xsd:integer ;\n",
      "        oae:hasMatchedURI    <http://dbpedia.org/resource/Comparison_of_Java_and_Android_API> .\n",
      "\n",
      "    _:e0-53 rdf:type oae:Entity ;\n",
      "        oae:confidence       \"-3.461126778206226\"^^xsd:double ;\n",
      "        oae:detectedAs       \"options\" ;\n",
      "        oae:position         \"961\"^^xsd:integer ;\n",
      "        oae:hasMatchedURI    <http://dbpedia.org/resource/Option_%28finance%29> .\n",
      "\n",
      "    _:e0-54 rdf:type oae:Entity ;\n",
      "        oae:confidence       \"-3.498124876318241\"^^xsd:double ;\n",
      "        oae:detectedAs       \"mic\" ;\n",
      "        oae:position         \"1433\"^^xsd:integer ;\n",
      "        oae:hasMatchedURI    <http://dbpedia.org/resource/Microphone> .\n",
      "\n",
      "    _:e0-55 rdf:type oae:Entity ;\n",
      "        oae:confidence       \"-3.5754052169178516\"^^xsd:double ;\n",
      "        oae:detectedAs       \"live\" ;\n",
      "        oae:position         \"1404\"^^xsd:integer ;\n",
      "        oae:hasMatchedURI    <http://dbpedia.org/resource/Live_%28band%29> .\n",
      "\n",
      "    _:e0-56 rdf:type oae:Entity ;\n",
      "        oae:confidence       \"-3.6022853822213086\"^^xsd:double ;\n",
      "        oae:detectedAs       \"yesterday\" ;\n",
      "        oae:position         \"1010\"^^xsd:integer ;\n",
      "        oae:hasMatchedURI    <http://dbpedia.org/resource/Yesterday_%28Beatles_song%29> .\n",
      "\n",
      "    _:e0-57 rdf:type oae:Entity ;\n",
      "        oae:confidence       \"-3.6497673364022702\"^^xsd:double ;\n",
      "        oae:detectedAs       \"logo\" ;\n",
      "        oae:position         \"1424\"^^xsd:integer ;\n",
      "        oae:hasMatchedURI    <http://dbpedia.org/resource/Logo> .\n",
      "\n",
      "    _:e0-58 rdf:type oae:Entity ;\n",
      "        oae:confidence       \"-3.728015006917483\"^^xsd:double ;\n",
      "        oae:detectedAs       \"tablet\" ;\n",
      "        oae:position         \"1633\"^^xsd:integer ;\n",
      "        oae:hasMatchedURI    <http://dbpedia.org/resource/Tablet_computer> .\n",
      "\n",
      "    _:e0-59 rdf:type oae:Entity ;\n",
      "        oae:confidence       \"-3.748781007684378\"^^xsd:double ;\n",
      "        oae:detectedAs       \"thread\" ;\n",
      "        oae:position         \"1147\"^^xsd:integer ;\n",
      "        oae:hasMatchedURI    <http://dbpedia.org/resource/Thread_%28computing%29> .\n",
      "\n",
      "    _:e0-60 rdf:type oae:Entity ;\n",
      "        oae:confidence       \"-3.748781007684378\"^^xsd:double ;\n",
      "        oae:detectedAs       \"thread\" ;\n",
      "        oae:position         \"837\"^^xsd:integer ;\n",
      "        oae:hasMatchedURI    <http://dbpedia.org/resource/Thread_%28computing%29> .\n",
      "\n",
      "    _:e0-61 rdf:type oae:Entity ;\n",
      "        oae:confidence       \"-3.7494489630850656\"^^xsd:double ;\n",
      "        oae:detectedAs       \"iphone\" ;\n",
      "        oae:position         \"1372\"^^xsd:integer ;\n",
      "        oae:hasMatchedURI    <http://dbpedia.org/resource/IPhone> .\n",
      "\n",
      "    _:e0-62 rdf:type oae:Entity ;\n",
      "        oae:confidence       \"-3.7823583058704715\"^^xsd:double ;\n",
      "        oae:detectedAs       \"forum\" ;\n",
      "        oae:position         \"768\"^^xsd:integer ;\n",
      "        oae:hasMatchedURI    <http://dbpedia.org/resource/Internet_forum> .\n",
      "\n",
      "    _:e0-63 rdf:type oae:Entity ;\n",
      "        oae:confidence       \"-3.7823583058704715\"^^xsd:double ;\n",
      "        oae:detectedAs       \"forum\" ;\n",
      "        oae:position         \"680\"^^xsd:integer ;\n",
      "        oae:hasMatchedURI    <http://dbpedia.org/resource/Internet_forum> .\n",
      "\n",
      "    _:e0-64 rdf:type oae:Entity ;\n",
      "        oae:confidence       \"-3.8083074681045654\"^^xsd:double ;\n",
      "        oae:detectedAs       \"camera\" ;\n",
      "        oae:position         \"1250\"^^xsd:integer ;\n",
      "        oae:hasMatchedURI    <http://dbpedia.org/resource/Camera> .\n",
      "\n",
      "    _:e0-65 rdf:type oae:Entity ;\n",
      "        oae:confidence       \"-3.8150963703478196\"^^xsd:double ;\n",
      "        oae:detectedAs       \"stream\" ;\n",
      "        oae:position         \"1599\"^^xsd:integer ;\n",
      "        oae:hasMatchedURI    <http://dbpedia.org/resource/Stream> .\n",
      "\n",
      "    _:e0-66 rdf:type oae:Entity ;\n",
      "        oae:confidence       \"-3.872465639810725\"^^xsd:double ;\n",
      "        oae:detectedAs       \"forums\" ;\n",
      "        oae:position         \"818\"^^xsd:integer ;\n",
      "        oae:hasMatchedURI    <http://dbpedia.org/resource/Internet_forum> .\n",
      "\n",
      "    _:e0-67 rdf:type oae:Entity ;\n",
      "        oae:confidence       \"-3.872465639810725\"^^xsd:double ;\n",
      "        oae:detectedAs       \"forums\" ;\n",
      "        oae:position         \"781\"^^xsd:integer ;\n",
      "        oae:hasMatchedURI    <http://dbpedia.org/resource/Internet_forum> .\n",
      "\n",
      "    _:e0-68 rdf:type oae:Entity ;\n",
      "        oae:confidence       \"-3.9213973648703364\"^^xsd:double ;\n",
      "        oae:detectedAs       \"lag\" ;\n",
      "        oae:position         \"1392\"^^xsd:integer ;\n",
      "        oae:hasMatchedURI    <http://dbpedia.org/resource/Lag> .\n",
      "\n",
      "    _:e0-69 rdf:type oae:Entity ;\n",
      "        oae:confidence       \"-3.934500644104404\"^^xsd:double ;\n",
      "        oae:detectedAs       \"var\" ;\n",
      "        oae:position         \"1716\"^^xsd:integer ;\n",
      "        oae:hasMatchedURI    <http://dbpedia.org/resource/Value_at_risk> .\n",
      "\n",
      "    _:e0-70 rdf:type oae:Entity ;\n",
      "        oae:confidence       \"-3.9690631453143057\"^^xsd:double ;\n",
      "        oae:detectedAs       \"library\" ;\n",
      "        oae:position         \"1396\"^^xsd:integer ;\n",
      "        oae:hasMatchedURI    <http://dbpedia.org/resource/Library> .\n",
      "\n",
      "    _:e0-71 rdf:type oae:Entity ;\n",
      "        oae:confidence       \"-3.9713260165038617\"^^xsd:double ;\n",
      "        oae:detectedAs       \"ipad\" ;\n",
      "        oae:position         \"1367\"^^xsd:integer ;\n",
      "        oae:hasMatchedURI    <http://dbpedia.org/resource/IPad_%284th_generation%29> .\n",
      "\n",
      "    _:e0-72 rdf:type oae:Entity ;\n",
      "        oae:confidence       \"-4.016293615617457\"^^xsd:double ;\n",
      "        oae:detectedAs       \"https\" ;\n",
      "        oae:position         \"1734\"^^xsd:integer ;\n",
      "        oae:hasMatchedURI    <http://dbpedia.org/resource/HTTPS> .\n",
      "\n",
      "    _:e0-73 rdf:type oae:Entity ;\n",
      "        oae:confidence       \"-4.029048765684823\"^^xsd:double ;\n",
      "        oae:detectedAs       \"auto pilot\" ;\n",
      "        oae:position         \"1222\"^^xsd:integer ;\n",
      "        oae:hasMatchedURI    <http://dbpedia.org/resource/Autopilot> .\n",
      "\n",
      "    _:e0-74 rdf:type oae:Entity ;\n",
      "        oae:confidence       \"-4.061576738935372\"^^xsd:double ;\n",
      "        oae:detectedAs       \"name search\" ;\n",
      "        oae:position         \"949\"^^xsd:integer ;\n",
      "        oae:hasMatchedURI    <http://dbpedia.org/resource/Names_Database> .\n",
      "\n",
      "    _:e0-75 rdf:type oae:Entity ;\n",
      "        oae:confidence       \"-4.0689718522129485\"^^xsd:double ;\n",
      "        oae:detectedAs       \"keyword\" ;\n",
      "        oae:position         \"900\"^^xsd:integer ;\n",
      "        oae:hasMatchedURI    <http://dbpedia.org/resource/Reserved_word> .\n",
      "\n",
      "    _:e0-76 rdf:type oae:Entity ;\n",
      "        oae:confidence       \"-4.079373942638567\"^^xsd:double ;\n",
      "        oae:detectedAs       \"tags\" ;\n",
      "        oae:position         \"1154\"^^xsd:integer ;\n",
      "        oae:hasMatchedURI    <http://dbpedia.org/resource/Tag_%28metadata%29> .\n",
      "\n",
      "    _:e0-77 rdf:type oae:Entity ;\n",
      "        oae:confidence       \"-4.125448083623811\"^^xsd:double ;\n",
      "        oae:detectedAs       \"speakers\" ;\n",
      "        oae:position         \"1579\"^^xsd:integer ;\n",
      "        oae:hasMatchedURI    <http://dbpedia.org/resource/Loudspeaker> .\n",
      "\n",
      "    _:e0-78 rdf:type oae:Entity ;\n",
      "        oae:confidence       \"-4.138086546168775\"^^xsd:double ;\n",
      "        oae:detectedAs       \"sound sound\" ;\n",
      "        oae:position         \"1561\"^^xsd:integer ;\n",
      "        oae:hasMatchedURI    <http://dbpedia.org/resource/WAV> .\n",
      "\n",
      "    _:e0-79 rdf:type oae:Entity ;\n",
      "        oae:confidence       \"-4.139885712994319\"^^xsd:double ;\n",
      "        oae:detectedAs       \"video\" ;\n",
      "        oae:position         \"1667\"^^xsd:integer ;\n",
      "        oae:hasMatchedURI    <http://dbpedia.org/resource/Video> .\n",
      "\n",
      "    _:e0-80 rdf:type oae:Entity ;\n",
      "        oae:confidence       \"-4.295280601362431\"^^xsd:double ;\n",
      "        oae:detectedAs       \"month ago\" ;\n",
      "        oae:position         \"1045\"^^xsd:integer ;\n",
      "        oae:hasMatchedURI    <http://dbpedia.org/resource/Six_Months_Ago> .\n",
      "\n",
      "    _:e0-81 rdf:type oae:Entity ;\n",
      "        oae:confidence       \"-4.372203391918539\"^^xsd:double ;\n",
      "        oae:detectedAs       \"help\" ;\n",
      "        oae:position         \"1204\"^^xsd:integer ;\n",
      "        oae:hasMatchedURI    <http://dbpedia.org/resource/Help%21_%28album%29> .\n",
      "\n",
      "    _:e0-82 rdf:type oae:Entity ;\n",
      "        oae:confidence       \"-4.45143598534744\"^^xsd:double ;\n",
      "        oae:detectedAs       \"read search\" ;\n",
      "        oae:position         \"825\"^^xsd:integer ;\n",
      "        oae:hasMatchedURI    <http://dbpedia.org/resource/Hard_disk_drive_performance_characteristics> .\n",
      "\n",
      "    _:e0-83 rdf:type oae:Entity ;\n",
      "        oae:confidence       \"-4.462285843854563\"^^xsd:double ;\n",
      "        oae:detectedAs       \"question\" ;\n",
      "        oae:position         \"1528\"^^xsd:integer ;\n",
      "        oae:hasMatchedURI    <http://dbpedia.org/resource/Question> .\n",
      "\n",
      "    _:e0-84 rdf:type oae:Entity ;\n",
      "        oae:confidence       \"-4.522011151473924\"^^xsd:double ;\n",
      "        oae:detectedAs       \"audio audio\" ;\n",
      "        oae:position         \"1192\"^^xsd:integer ;\n",
      "        oae:hasMatchedURI    <http://dbpedia.org/resource/Stereophonic_sound> .\n",
      "\n",
      "    _:e0-85 rdf:type oae:Entity ;\n",
      "        oae:confidence       \"-4.532117635055076\"^^xsd:double ;\n",
      "        oae:detectedAs       \"document\" ;\n",
      "        oae:position         \"1745\"^^xsd:integer ;\n",
      "        oae:hasMatchedURI    <http://dbpedia.org/resource/Document> .\n",
      "\n",
      "    _:e0-86 rdf:type oae:Entity ;\n",
      "        oae:confidence       \"-4.558980578003597\"^^xsd:double ;\n",
      "        oae:detectedAs       \"screen bug\" ;\n",
      "        oae:position         \"1239\"^^xsd:integer ;\n",
      "        oae:hasMatchedURI    <http://dbpedia.org/resource/Digital_on-screen_graphic> .\n",
      "\n",
      "    _:e0-87 rdf:type oae:Entity ;\n",
      "        oae:confidence       \"-4.680993286374409\"^^xsd:double ;\n",
      "        oae:detectedAs       \"user name\" ;\n",
      "        oae:position         \"932\"^^xsd:integer ;\n",
      "        oae:hasMatchedURI    <http://dbpedia.org/resource/User_%28computing%29> .\n",
      "\n",
      "    _:e0-88 rdf:type oae:Entity ;\n",
      "        oae:confidence       \"-4.680993286374409\"^^xsd:double ;\n",
      "        oae:detectedAs       \"user name\" ;\n",
      "        oae:position         \"922\"^^xsd:integer ;\n",
      "        oae:hasMatchedURI    <http://dbpedia.org/resource/User_%28computing%29> .\n",
      "\n",
      "    _:e0-89 rdf:type oae:Entity ;\n",
      "        oae:confidence       \"-4.7188400107778365\"^^xsd:double ;\n",
      "        oae:detectedAs       \"error\" ;\n",
      "        oae:position         \"1305\"^^xsd:integer ;\n",
      "        oae:hasMatchedURI    <http://dbpedia.org/resource/Error> .\n",
      "\n",
      "    _:e0-90 rdf:type oae:Entity ;\n",
      "        oae:confidence       \"-4.8040661369725095\"^^xsd:double ;\n",
      "        oae:detectedAs       \"chat\" ;\n",
      "        oae:position         \"1265\"^^xsd:integer ;\n",
      "        oae:hasMatchedURI    <http://dbpedia.org/resource/Online_chat> .\n",
      "\n",
      "    _:e0-91 rdf:type oae:Entity ;\n",
      "        oae:confidence       \"-4.833043497859727\"^^xsd:double ;\n",
      "        oae:detectedAs       \"quality\" ;\n",
      "        oae:position         \"1520\"^^xsd:integer ;\n",
      "        oae:hasMatchedURI    <http://dbpedia.org/resource/Quality_%28business%29> .\n",
      "\n",
      "    _:e0-92 rdf:type oae:Entity ;\n",
      "        oae:confidence       \"-4.9232930090095035\"^^xsd:double ;\n",
      "        oae:detectedAs       \"search by keyword\" ;\n",
      "        oae:position         \"882\"^^xsd:integer ;\n",
      "        oae:hasMatchedURI    <http://dbpedia.org/resource/Search_algorithm> .\n",
      "\n",
      "    _:e0-93 rdf:type oae:Entity ;\n",
      "        oae:confidence       \"-4.92665911370796\"^^xsd:double ;\n",
      "        oae:detectedAs       \"crash\" ;\n",
      "        oae:position         \"1270\"^^xsd:integer ;\n",
      "        oae:hasMatchedURI    <http://dbpedia.org/resource/Crash_%282004_film%29> .\n",
      "\n",
      "    _:e0-94 rdf:type oae:Entity ;\n",
      "        oae:confidence       \"-4.982528752585228\"^^xsd:double ;\n",
      "        oae:detectedAs       \"verification\" ;\n",
      "        oae:position         \"1654\"^^xsd:integer ;\n",
      "        oae:hasMatchedURI    <http://dbpedia.org/resource/Verification_and_validation> .\n",
      "\n",
      "    _:e0-95 rdf:type oae:Entity ;\n",
      "        oae:confidence       \"-3.7624386057570884\"^^xsd:double ;\n",
      "        oae:detectedAs       \"https ssl\" ;\n",
      "        oae:position         \"1776\"^^xsd:integer ;\n",
      "        oae:hasMatchedURI    <http://dbpedia.org/resource/HTTPS> .\n",
      "\n",
      "    _:e0-96 rdf:type oae:Entity ;\n",
      "        oae:confidence       \"-3.938161261400002\"^^xsd:double ;\n",
      "        oae:detectedAs       \"protocol\" ;\n",
      "        oae:position         \"1763\"^^xsd:integer ;\n",
      "        oae:hasMatchedURI    <http://dbpedia.org/resource/Protocol> .\n",
      "\n",
      "    _:e0-97 rdf:type oae:Entity ;\n",
      "        oae:confidence       \"-4.446693911095304\"^^xsd:double ;\n",
      "        oae:detectedAs       \"http\" ;\n",
      "        oae:position         \"1793\"^^xsd:integer ;\n",
      "        oae:hasMatchedURI    <http://dbpedia.org/resource/Hypertext_Transfer_Protocol> .\n",
      "\n",
      "    _:e0-98 rdf:type oae:Entity ;\n",
      "        oae:confidence       \"-4.532117635055076\"^^xsd:double ;\n",
      "        oae:detectedAs       \"document\" ;\n",
      "        oae:position         \"1808\"^^xsd:integer ;\n",
      "        oae:hasMatchedURI    <http://dbpedia.org/resource/Document> .\n",
      "\n",
      "    _:e0-99 rdf:type oae:Entity ;\n",
      "        oae:confidence       \"-0.2760230444720168\"^^xsd:double ;\n",
      "        oae:detectedAs       \"google analytics\" ;\n",
      "        oae:position         \"1864\"^^xsd:integer ;\n",
      "        oae:hasMatchedURI    <http://dbpedia.org/resource/Google_Analytics> .\n",
      "\n",
      "    _:e0-100 rdf:type oae:Entity ;\n",
      "        oae:confidence       \"-3.1111830032248085\"^^xsd:double ;\n",
      "        oae:detectedAs       \"src\" ;\n",
      "        oae:position         \"1843\"^^xsd:integer ;\n",
      "        oae:hasMatchedURI    <http://dbpedia.org/resource/Proto-oncogene_tyrosine-protein_kinase_Src> .\n",
      "\n",
      "    _:e0-101 rdf:type oae:Entity ;\n",
      "        oae:confidence       \"-3.068291223406482\"^^xsd:double ;\n",
      "        oae:detectedAs       \"js\" ;\n",
      "        oae:position         \"1888\"^^xsd:integer ;\n",
      "        oae:hasMatchedURI    <http://dbpedia.org/resource/JavaScript> .\n",
      "\n",
      "    _:e0-102 rdf:type oae:Entity ;\n",
      "        oae:confidence       \"-3.3864137517359914\"^^xsd:double ;\n",
      "        oae:detectedAs       \"3c\" ;\n",
      "        oae:position         \"1918\"^^xsd:integer ;\n",
      "        oae:hasMatchedURI    <http://dbpedia.org/resource/3C%27s_model> .\n",
      "\n",
      "    _:e0-103 rdf:type oae:Entity ;\n",
      "        oae:confidence       \"-3.506266525411122\"^^xsd:double ;\n",
      "        oae:detectedAs       \"3e\" ;\n",
      "        oae:position         \"1928\"^^xsd:integer ;\n",
      "        oae:hasMatchedURI    <http://dbpedia.org/resource/3e> .\n",
      "\n",
      "    _:e0-104 rdf:type oae:Entity ;\n",
      "        oae:confidence       \"-3.506266525411122\"^^xsd:double ;\n",
      "        oae:detectedAs       \"3e\" ;\n",
      "        oae:position         \"1915\"^^xsd:integer ;\n",
      "        oae:hasMatchedURI    <http://dbpedia.org/resource/3e> .\n",
      "\n",
      "    _:e0-105 rdf:type oae:Entity ;\n",
      "        oae:confidence       \"-3.934500644104404\"^^xsd:double ;\n",
      "        oae:detectedAs       \"var\" ;\n",
      "        oae:position         \"1941\"^^xsd:integer ;\n",
      "        oae:hasMatchedURI    <http://dbpedia.org/resource/Value_at_risk> .\n",
      "\n",
      "    _:e0-106 rdf:type oae:Entity ;\n",
      "        oae:confidence       \"-4.211504899059577\"^^xsd:double ;\n",
      "        oae:detectedAs       \"gat\" ;\n",
      "        oae:position         \"1960\"^^xsd:integer ;\n",
      "        oae:hasMatchedURI    <http://dbpedia.org/resource/Gath_%28city%29> .\n",
      "\n",
      "    _:e0-107 rdf:type oae:Entity ;\n",
      "        oae:confidence       \"-4.783635402056546\"^^xsd:double ;\n",
      "        oae:detectedAs       \"try\" ;\n",
      "        oae:position         \"1935\"^^xsd:integer ;\n",
      "        oae:hasMatchedURI    <http://dbpedia.org/resource/Try> .\n",
      "\n",
      "    _:e0-108 rdf:type oae:Entity ;\n",
      "        oae:confidence       \"-2.768340736226127\"^^xsd:double ;\n",
      "        oae:detectedAs       \"ua\" ;\n",
      "        oae:position         \"1977\"^^xsd:integer ;\n",
      "        oae:hasMatchedURI    <http://dbpedia.org/resource/.ua> .\n",
      "\n",
      "    _:e0-109 rdf:type oae:Entity ;\n",
      "        oae:confidence       \"-4.39219802019802\"^^xsd:double ;\n",
      "        oae:detectedAs       \"7\" ;\n",
      "        oae:position         \"1988\"^^xsd:integer ;\n",
      "        oae:hasMatchedURI    <http://dbpedia.org/resource/7> .\n",
      "\n",
      "    _:e0-110 rdf:type oae:Entity ;\n",
      "        oae:confidence       \"-0.6015646570161929\"^^xsd:double ;\n",
      "        oae:detectedAs       \"livestream\" ;\n",
      "        oae:position         \"2022\"^^xsd:integer ;\n",
      "        oae:hasMatchedURI    <http://dbpedia.org/resource/Livestream> .\n",
      "\n",
      "    _:e0-111 rdf:type oae:Entity ;\n",
      "        oae:confidence       \"-0.6015646570161929\"^^xsd:double ;\n",
      "        oae:detectedAs       \"livestream\" ;\n",
      "        oae:position         \"2177\"^^xsd:integer ;\n",
      "        oae:hasMatchedURI    <http://dbpedia.org/resource/Livestream> .\n",
      "\n",
      "    _:e0-112 rdf:type oae:Entity ;\n",
      "        oae:confidence       \"-2.252237168803883\"^^xsd:double ;\n",
      "        oae:detectedAs       \"acct\" ;\n",
      "        oae:position         \"2145\"^^xsd:integer ;\n",
      "        oae:hasMatchedURI    <http://dbpedia.org/resource/Agence_de_Coop%C3%A9ration_Culturelle_et_Technique> .\n",
      "\n",
      "    _:e0-113 rdf:type oae:Entity ;\n",
      "        oae:confidence       \"-4.294853543191676\"^^xsd:double ;\n",
      "        oae:detectedAs       \"err\" ;\n",
      "        oae:position         \"2078\"^^xsd:integer ;\n",
      "        oae:hasMatchedURI    <http://dbpedia.org/resource/Estrogen-related_receptor_gamma> .\n",
      "\n",
      "    _:e0-114 rdf:type oae:Entity ;\n",
      "        oae:confidence       \"-4.358377213567242\"^^xsd:double ;\n",
      "        oae:detectedAs       \"p\" ;\n",
      "        oae:position         \"2105\"^^xsd:integer ;\n",
      "        oae:hasMatchedURI    <http://dbpedia.org/resource/P> .\n",
      "\n"
     ]
    }
   ],
   "source": [
    "println(versionTriples.peek)"
   ]
  },
  {
   "cell_type": "markdown",
   "metadata": {},
   "source": [
    "# Sort and store with headers"
   ]
  },
  {
   "cell_type": "code",
   "execution_count": 26,
   "metadata": {
    "collapsed": true
   },
   "outputs": [],
   "source": [
    "val headers = TripleHeader.append(\"oae\" -> \"http://www.ics.forth.gr/isl/oae/core#\")"
   ]
  },
  {
   "cell_type": "code",
   "execution_count": 27,
   "metadata": {
    "collapsed": false
   },
   "outputs": [],
   "source": [
    "val triples = ArchiveSpark2Triples.toStringsSorted(headers, documentTriples, sameAsTriples, versionTriples)"
   ]
  },
  {
   "cell_type": "code",
   "execution_count": 28,
   "metadata": {
    "collapsed": false
   },
   "outputs": [],
   "source": [
    "triples.saveAsTextFile(s\"$collection-Triples1.gz\", classOf[GzipCodec])"
   ]
  }
 ],
 "metadata": {
  "kernelspec": {
   "display_name": "ArchiveSpark with FEL",
   "language": "",
   "name": "archivespark_fel"
  },
  "language_info": {
   "name": "scala",
   "version": "2.11.8"
  }
 },
 "nbformat": 4,
 "nbformat_minor": 0
}
